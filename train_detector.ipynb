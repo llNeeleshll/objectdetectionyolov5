{
 "metadata": {
  "language_info": {
   "codemirror_mode": {
    "name": "ipython",
    "version": 3
   },
   "file_extension": ".py",
   "mimetype": "text/x-python",
   "name": "python",
   "nbconvert_exporter": "python",
   "pygments_lexer": "ipython3",
   "version": 3
  },
  "orig_nbformat": 2
 },
 "nbformat": 4,
 "nbformat_minor": 2,
 "cells": [
  {
   "source": [
    "Training the object detector for new objects.\n",
    "\n",
    "1. Label your data using https://makesence.ai.\n",
    "2. Create a custom YAML file and place your data location in the YAML file.\n",
    "3. Run the below command for atleast 500 epoch to train the algo.\n",
    "4. You can find your trained weights at /runs/train/exp(1-n)/weights/last.pt"
   ],
   "cell_type": "markdown",
   "metadata": {}
  },
  {
   "cell_type": "code",
   "execution_count": null,
   "metadata": {},
   "outputs": [],
   "source": [
    "\n",
    "!python train.py --img 640 --batch 16 --epochs 3 --data custom_invoice.yaml --weights yolov5s.pt --nosave --cache"
   ]
  },
  {
   "source": [
    "Once the detector is trained. Open object_detector.py and change the weights file with the newly created one. Place an image in the \"imread\" and run the code."
   ],
   "cell_type": "markdown",
   "metadata": {}
  },
  {
   "cell_type": "code",
   "execution_count": null,
   "metadata": {},
   "outputs": [],
   "source": []
  }
 ]
}